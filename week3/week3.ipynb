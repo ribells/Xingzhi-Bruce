{
  "nbformat": 4,
  "nbformat_minor": 0,
  "metadata": {
    "colab": {
      "provenance": [],
      "gpuType": "T4"
    },
    "kernelspec": {
      "name": "python3",
      "display_name": "Python 3"
    },
    "language_info": {
      "name": "python"
    },
    "accelerator": "GPU"
  },
  "cells": [
    {
      "cell_type": "code",
      "source": [
        "!pip install gymnasium ale_py"
      ],
      "metadata": {
        "colab": {
          "base_uri": "https://localhost:8080/"
        },
        "id": "25fHgbmcDWWr",
        "outputId": "567a283f-f1ef-4361-88ae-9db2e8661233"
      },
      "execution_count": 1,
      "outputs": [
        {
          "output_type": "stream",
          "name": "stdout",
          "text": [
            "Requirement already satisfied: gymnasium in /usr/local/lib/python3.11/dist-packages (1.2.0)\n",
            "Requirement already satisfied: ale_py in /usr/local/lib/python3.11/dist-packages (0.11.2)\n",
            "Requirement already satisfied: numpy>=1.21.0 in /usr/local/lib/python3.11/dist-packages (from gymnasium) (2.0.2)\n",
            "Requirement already satisfied: cloudpickle>=1.2.0 in /usr/local/lib/python3.11/dist-packages (from gymnasium) (3.1.1)\n",
            "Requirement already satisfied: typing-extensions>=4.3.0 in /usr/local/lib/python3.11/dist-packages (from gymnasium) (4.14.1)\n",
            "Requirement already satisfied: farama-notifications>=0.0.1 in /usr/local/lib/python3.11/dist-packages (from gymnasium) (0.0.4)\n"
          ]
        }
      ]
    },
    {
      "cell_type": "code",
      "execution_count": 2,
      "metadata": {
        "id": "f009__cxCz_o"
      },
      "outputs": [],
      "source": [
        "import gymnasium as gym\n",
        "import ale_py"
      ]
    },
    {
      "cell_type": "code",
      "source": [
        "import torch\n",
        "import torch.nn as nn\n",
        "import torch.optim as optim\n",
        "import numpy as np\n",
        "import random\n",
        "from collections import deque"
      ],
      "metadata": {
        "id": "UrRbxLbqHRHb"
      },
      "execution_count": 3,
      "outputs": []
    },
    {
      "cell_type": "code",
      "source": [
        "device = torch.device('cpu')\n",
        "\n",
        "print(device) # Should return GPU, use the Runtime > Change runtime type if you haven't already (this will require you to rerun all the colab cells so far)."
      ],
      "metadata": {
        "colab": {
          "base_uri": "https://localhost:8080/"
        },
        "id": "JExHhtOJMKWa",
        "outputId": "2e6bcf2e-dbda-42d6-e6bc-63b316eb9fce"
      },
      "execution_count": 4,
      "outputs": [
        {
          "output_type": "stream",
          "name": "stdout",
          "text": [
            "cpu\n"
          ]
        }
      ]
    },
    {
      "cell_type": "code",
      "source": [
        "class DQN(nn.Module):\n",
        "    def __init__(self):\n",
        "        super(DQN, self).__init__()\n",
        "        self.fc1 = nn.Linear(128, 128)\n",
        "        self.fc2 = nn.Linear(128, 128)\n",
        "        self.fc3 = nn.Linear(128, 6)\n",
        "        self.pool = nn.MaxPool2d(kernel_size=2, stride=2)\n",
        "\n",
        "    def forward(self, x):\n",
        "        x = torch.relu(self.fc1(x))\n",
        "        x = torch.relu(self.fc2(x))\n",
        "        x = self.fc3(x)\n",
        "        return x"
      ],
      "metadata": {
        "id": "eAsQ0BRSD7Zl"
      },
      "execution_count": 5,
      "outputs": []
    },
    {
      "cell_type": "code",
      "source": [
        "model = DQN()\n",
        "model.to(device)"
      ],
      "metadata": {
        "colab": {
          "base_uri": "https://localhost:8080/"
        },
        "id": "3hnL4wXoM8ay",
        "outputId": "5f4c0a03-23a6-4197-cee4-8d4f3ecd0093"
      },
      "execution_count": 6,
      "outputs": [
        {
          "output_type": "execute_result",
          "data": {
            "text/plain": [
              "DQN(\n",
              "  (fc1): Linear(in_features=128, out_features=128, bias=True)\n",
              "  (fc2): Linear(in_features=128, out_features=128, bias=True)\n",
              "  (fc3): Linear(in_features=128, out_features=6, bias=True)\n",
              "  (pool): MaxPool2d(kernel_size=2, stride=2, padding=0, dilation=1, ceil_mode=False)\n",
              ")"
            ]
          },
          "metadata": {},
          "execution_count": 6
        }
      ]
    },
    {
      "cell_type": "code",
      "source": [
        "# Define DQN Agent with Experience Replay Buffer\n",
        "class DQNAgent:\n",
        "    def __init__(self, action_dim, lr, gamma, epsilon, epsilon_decay, buffer_size):\n",
        "        self.action_dim = action_dim\n",
        "        self.lr = lr\n",
        "        self.gamma = gamma\n",
        "        self.epsilon = epsilon\n",
        "        self.epsilon_decay = epsilon_decay\n",
        "        self.memory = deque(maxlen=buffer_size)\n",
        "\n",
        "        self.optimizer = optim.Adam(model.parameters(), lr=lr)\n",
        "\n",
        "    def act(self, state):\n",
        "        if np.random.rand() <= self.epsilon:\n",
        "            return np.random.choice(self.action_dim)\n",
        "        q_values = model(torch.tensor(state, dtype=torch.float32))\n",
        "        return torch.argmax(q_values).item()\n",
        "\n",
        "    def remember(self, state, action, reward, next_state, done):\n",
        "        self.memory.append((state, action, reward, next_state, done))\n",
        "\n",
        "    def replay(self, batch_size):\n",
        "        if len(self.memory) < batch_size:\n",
        "            return\n",
        "        minibatch = random.sample(self.memory, batch_size)\n",
        "        for state, action, reward, next_state, done in minibatch:\n",
        "            target = reward\n",
        "            state_tensor = torch.tensor(state, dtype=torch.float32)\n",
        "            state_tensor.to(device)\n",
        "            next_state_tensor = torch.tensor(next_state, dtype=torch.float32)\n",
        "            next_state_tensor.to(device)\n",
        "            if not done:\n",
        "                target = reward + self.gamma * torch.max(model(next_state_tensor)).item()\n",
        "\n",
        "            target_f = model(state_tensor)\n",
        "            target_f[action] = target\n",
        "            self.optimizer.zero_grad()\n",
        "            loss = nn.MSELoss()(torch.tensor(target_f), model(state_tensor))\n",
        "            loss.backward()\n",
        "            self.optimizer.step()\n",
        "        if self.epsilon > 0.01:\n",
        "            self.epsilon *= self.epsilon_decay"
      ],
      "metadata": {
        "id": "xnrpXoN8G9TG"
      },
      "execution_count": 7,
      "outputs": []
    },
    {
      "cell_type": "code",
      "source": [
        "def permute(a):\n",
        "    return np.transpose(np.resize(a, (1, 210, 160, 3)), (0, 3, 1, 2))"
      ],
      "metadata": {
        "id": "0zKPl9MMKljt"
      },
      "execution_count": 36,
      "outputs": []
    },
    {
      "cell_type": "code",
      "source": [
        "# Initialize environment and agent with Experience Replay Buffer\n",
        "gym.register_envs(ale_py)\n",
        "\n",
        "env = gym.make('ALE/Pong-v5', obs_type='ram')\n",
        "action_dim = 6\n",
        "agent = DQNAgent(action_dim, lr=0.001, gamma=0.99, epsilon=1.0, epsilon_decay=0.995, buffer_size=10000)\n",
        "\n",
        "# Train the DQN agent with Experience Replay Buffer\n",
        "batch_size = 32\n",
        "num_episodes = 1000\n",
        "for episode in range(num_episodes):\n",
        "    state, _ = env.reset()\n",
        "    #state = permute(state)\n",
        "    #state.to(device)\n",
        "    total_reward = 0\n",
        "    done = False\n",
        "    frames = 0\n",
        "    while not done and frames < 1000:\n",
        "        action = agent.act(state)\n",
        "        next_state, reward, done, _, _ = env.step(action)\n",
        "        #next_state = permute(next_state)\n",
        "        agent.remember(state, action, reward, next_state, done)\n",
        "        state = next_state\n",
        "        total_reward += reward\n",
        "        agent.replay(batch_size)\n",
        "        frames += 1\n",
        "    print(f\"Episode: {episode + 1}, Total Reward: {total_reward}\")"
      ],
      "metadata": {
        "colab": {
          "base_uri": "https://localhost:8080/"
        },
        "id": "f1EUuH_mI5u8",
        "outputId": "49609730-b1e6-4f62-9175-7a870b88cfe7"
      },
      "execution_count": null,
      "outputs": [
        {
          "output_type": "stream",
          "name": "stderr",
          "text": [
            "/tmp/ipython-input-7-568878706.py:38: UserWarning: To copy construct from a tensor, it is recommended to use sourceTensor.clone().detach() or sourceTensor.clone().detach().requires_grad_(True), rather than torch.tensor(sourceTensor).\n",
            "  loss = nn.MSELoss()(torch.tensor(target_f), model(state_tensor))\n"
          ]
        }
      ]
    },
    {
      "cell_type": "code",
      "source": [
        "np.resize(next_state, (1, 210, 160, 3)).shape"
      ],
      "metadata": {
        "id": "Kw7rbNY7JM5d"
      },
      "execution_count": null,
      "outputs": []
    },
    {
      "cell_type": "code",
      "source": [],
      "metadata": {
        "id": "8DwlnHSIJl3f"
      },
      "execution_count": null,
      "outputs": []
    }
  ]
}